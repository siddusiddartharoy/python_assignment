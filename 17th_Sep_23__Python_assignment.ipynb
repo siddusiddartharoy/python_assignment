{
  "nbformat": 4,
  "nbformat_minor": 0,
  "metadata": {
    "colab": {
      "provenance": []
    },
    "kernelspec": {
      "name": "python3",
      "display_name": "Python 3"
    },
    "language_info": {
      "name": "python"
    }
  },
  "cells": [
    {
      "cell_type": "code",
      "execution_count": 14,
      "metadata": {
        "colab": {
          "base_uri": "https://localhost:8080/"
        },
        "id": "X59OI1OPW_Z3",
        "outputId": "c4728873-e3e7-4df5-ca51-56d158f6f057"
      },
      "outputs": [
        {
          "output_type": "stream",
          "name": "stdout",
          "text": [
            "1\n",
            "2\n",
            "3\n",
            "4\n",
            "5\n",
            "6\n",
            "7\n",
            "8\n",
            "9\n",
            "10\n"
          ]
        }
      ],
      "source": [
        "# Printing numbers from 1 to 10 using a for loop:\n",
        "\n",
        "for i in range(1, 11):\n",
        "    print(i)\n"
      ]
    },
    {
      "cell_type": "code",
      "source": [
        "#Difference between a for loop and a while loop:\n",
        "\n",
        "\n",
        "# A for loop is used for iterating over a sequence (that is either a list, a tuple, a dictionary, a set, or a string), while a while loop is used to execute a block of code repeatedly as long as the specified condition is true."
      ],
      "metadata": {
        "id": "IhOGDXRIXUGx"
      },
      "execution_count": 15,
      "outputs": []
    },
    {
      "cell_type": "code",
      "source": [
        "#Calculating the sum of all numbers from 1 to 100 using a for loop:\n",
        "\n",
        "sum_numbers = 0\n",
        "for i in range(1, 101):\n",
        "    sum_numbers += i\n",
        "print(\"Sum:\", sum_numbers)\n",
        "\n"
      ],
      "metadata": {
        "colab": {
          "base_uri": "https://localhost:8080/"
        },
        "id": "t8nY4xwfX3qh",
        "outputId": "073aa632-e540-4817-e21a-66b1969f1d5c"
      },
      "execution_count": 5,
      "outputs": [
        {
          "output_type": "stream",
          "name": "stdout",
          "text": [
            "Sum: 5050\n"
          ]
        }
      ]
    },
    {
      "cell_type": "code",
      "source": [
        "#Iterating through a list using a for loop:\n",
        "\n",
        "my_list = [1, 2, 3, 4, 5]\n",
        "for item in my_list:\n",
        "    print(item)\n"
      ],
      "metadata": {
        "colab": {
          "base_uri": "https://localhost:8080/"
        },
        "id": "aoqbF_T4YInX",
        "outputId": "76014f07-b98b-4f24-d292-70600f513a6d"
      },
      "execution_count": 7,
      "outputs": [
        {
          "output_type": "stream",
          "name": "stdout",
          "text": [
            "1\n",
            "2\n",
            "3\n",
            "4\n",
            "5\n"
          ]
        }
      ]
    },
    {
      "cell_type": "code",
      "source": [
        "#Finding the product of all elements in a list using a for loop:\n",
        "product = 1\n",
        "for num in my_list:\n",
        "    product *= num\n",
        "print(\"Product:\", product)\n"
      ],
      "metadata": {
        "colab": {
          "base_uri": "https://localhost:8080/"
        },
        "id": "UEcXT_eqYMmN",
        "outputId": "ee1aea29-c579-4f1f-91b5-2b43fe460bd7"
      },
      "execution_count": 8,
      "outputs": [
        {
          "output_type": "stream",
          "name": "stdout",
          "text": [
            "Product: 120\n"
          ]
        }
      ]
    },
    {
      "cell_type": "code",
      "source": [
        "#Printing all even numbers from 1 to 20 using a for loop:\n",
        "for i in range(2, 21, 2):\n",
        "    print(i)\n"
      ],
      "metadata": {
        "colab": {
          "base_uri": "https://localhost:8080/"
        },
        "id": "W_0684nxYUes",
        "outputId": "3d91c1ad-7136-4cb0-9cfa-5892efa537b0"
      },
      "execution_count": 9,
      "outputs": [
        {
          "output_type": "stream",
          "name": "stdout",
          "text": [
            "2\n",
            "4\n",
            "6\n",
            "8\n",
            "10\n",
            "12\n",
            "14\n",
            "16\n",
            "18\n",
            "20\n"
          ]
        }
      ]
    },
    {
      "cell_type": "code",
      "source": [
        "#Calculating the factorial of a number using a for loop:\n",
        "num = 5\n",
        "factorial = 1\n",
        "for i in range(1, num + 1):\n",
        "    factorial *= i\n",
        "print(\"Factorial:\", factorial)\n"
      ],
      "metadata": {
        "colab": {
          "base_uri": "https://localhost:8080/"
        },
        "id": "MjTTf9w7YZh6",
        "outputId": "be4201d8-0b3b-4881-cfab-823ee54dd7e8"
      },
      "execution_count": 10,
      "outputs": [
        {
          "output_type": "stream",
          "name": "stdout",
          "text": [
            "Factorial: 120\n"
          ]
        }
      ]
    },
    {
      "cell_type": "code",
      "source": [
        "#Iterating through characters of a string using a for loop:\n",
        "my_string = \"Hello\"\n",
        "for char in my_string:\n",
        "    print(char)\n"
      ],
      "metadata": {
        "colab": {
          "base_uri": "https://localhost:8080/"
        },
        "id": "FxrkAPjBYeH-",
        "outputId": "462fa6bb-95c8-4b15-d0bc-32d5a15715d8"
      },
      "execution_count": 11,
      "outputs": [
        {
          "output_type": "stream",
          "name": "stdout",
          "text": [
            "H\n",
            "e\n",
            "l\n",
            "l\n",
            "o\n"
          ]
        }
      ]
    },
    {
      "cell_type": "code",
      "source": [
        "#Finding the largest number in a list using a for loop:\n",
        "\n",
        "max_number = max(my_list)\n",
        "print(\"Largest number:\", max_number)\n"
      ],
      "metadata": {
        "colab": {
          "base_uri": "https://localhost:8080/"
        },
        "id": "DvypXQGPYjTp",
        "outputId": "f9e1ca47-1004-421d-e7ed-df68748558b1"
      },
      "execution_count": 12,
      "outputs": [
        {
          "output_type": "stream",
          "name": "stdout",
          "text": [
            "Largest number: 5\n"
          ]
        }
      ]
    },
    {
      "cell_type": "code",
      "source": [
        "#Printing the Fibonacci sequence up to a specified limit using a for loop:\n",
        "\n",
        "limit = 10\n",
        "a, b = 0, 1\n",
        "for _ in range(limit):\n",
        "    print(a, end=\" \")\n",
        "    a, b = b, a + b\n"
      ],
      "metadata": {
        "colab": {
          "base_uri": "https://localhost:8080/"
        },
        "id": "1xvXH__bYm9T",
        "outputId": "a6950d7d-020c-48d3-9a99-430ea81dba76"
      },
      "execution_count": 13,
      "outputs": [
        {
          "output_type": "stream",
          "name": "stdout",
          "text": [
            "0 1 1 2 3 5 8 13 21 34 "
          ]
        }
      ]
    },
    {
      "cell_type": "code",
      "source": [
        "#Counting the number of vowels in a given string using a for loop:\n",
        "my_string = \"Hello, World!\"\n",
        "vowel_count = 0\n",
        "for char in my_string:\n",
        "    if char.lower() in \"aeiou\":\n",
        "        vowel_count += 1\n",
        "print(\"Number of vowels:\", vowel_count)\n"
      ],
      "metadata": {
        "colab": {
          "base_uri": "https://localhost:8080/"
        },
        "id": "YsJoHs0oYroW",
        "outputId": "d68dfefa-cdf1-4b84-df7e-488044957d29"
      },
      "execution_count": 16,
      "outputs": [
        {
          "output_type": "stream",
          "name": "stdout",
          "text": [
            "Number of vowels: 3\n"
          ]
        }
      ]
    },
    {
      "cell_type": "code",
      "source": [
        "#Generating a multiplication table for a given number using a for loop:\n",
        "\n",
        "num = 5\n",
        "for i in range(1, 11):\n",
        "    result = num * i\n",
        "    print(f\"{num} x {i} = {result}\")\n"
      ],
      "metadata": {
        "colab": {
          "base_uri": "https://localhost:8080/"
        },
        "id": "iOXSEDdtZJFV",
        "outputId": "db4441a5-a48f-4fb0-843e-bee4530afbe8"
      },
      "execution_count": 17,
      "outputs": [
        {
          "output_type": "stream",
          "name": "stdout",
          "text": [
            "5 x 1 = 5\n",
            "5 x 2 = 10\n",
            "5 x 3 = 15\n",
            "5 x 4 = 20\n",
            "5 x 5 = 25\n",
            "5 x 6 = 30\n",
            "5 x 7 = 35\n",
            "5 x 8 = 40\n",
            "5 x 9 = 45\n",
            "5 x 10 = 50\n"
          ]
        }
      ]
    },
    {
      "cell_type": "code",
      "source": [
        "#Reversing a list using a for loop:\n",
        "\n",
        "original_list = [1, 2, 3, 4, 5]\n",
        "reversed_list = []\n",
        "for item in reversed(original_list):\n",
        "    reversed_list.append(item)\n",
        "print(\"Reversed list:\", reversed_list)\n"
      ],
      "metadata": {
        "colab": {
          "base_uri": "https://localhost:8080/"
        },
        "id": "Vv_AXwNmZOza",
        "outputId": "755a6a10-8eb2-4b17-8325-9c3b86a179b0"
      },
      "execution_count": 18,
      "outputs": [
        {
          "output_type": "stream",
          "name": "stdout",
          "text": [
            "Reversed list: [5, 4, 3, 2, 1]\n"
          ]
        }
      ]
    },
    {
      "cell_type": "code",
      "source": [
        "#Finding common elements between two lists using a for loop:\n",
        "\n",
        "list1 = [1, 2, 3, 4, 5]\n",
        "list2 = [3, 4, 5, 6, 7]\n",
        "common_elements = []\n",
        "for item in list1:\n",
        "    if item in list2:\n",
        "        common_elements.append(item)\n",
        "print(\"Common elements:\", common_elements)\n"
      ],
      "metadata": {
        "colab": {
          "base_uri": "https://localhost:8080/"
        },
        "id": "xyAULE-vZXol",
        "outputId": "df53b988-2065-4987-d3a7-b96bc544658e"
      },
      "execution_count": 19,
      "outputs": [
        {
          "output_type": "stream",
          "name": "stdout",
          "text": [
            "Common elements: [3, 4, 5]\n"
          ]
        }
      ]
    },
    {
      "cell_type": "code",
      "source": [
        "#Iterating through keys and values of a dictionary using a for loop\n",
        "\n",
        "my_dict = {'a': 1, 'b': 2, 'c': 3}\n",
        "for key, value in my_dict.items():\n",
        "    print(f\"Key: {key}, Value: {value}\")\n"
      ],
      "metadata": {
        "colab": {
          "base_uri": "https://localhost:8080/"
        },
        "id": "tybwTYfQZcNT",
        "outputId": "dec41a13-4aaf-4bcd-c505-44f3c2dbe0ca"
      },
      "execution_count": 20,
      "outputs": [
        {
          "output_type": "stream",
          "name": "stdout",
          "text": [
            "Key: a, Value: 1\n",
            "Key: b, Value: 2\n",
            "Key: c, Value: 3\n"
          ]
        }
      ]
    },
    {
      "cell_type": "code",
      "source": [
        "#Finding the GCD of two numbers using a for loop:\n",
        "\n",
        "def find_gcd(x, y):\n",
        "    while y:\n",
        "        x, y = y, x % y\n",
        "    return x\n",
        "\n",
        "num1, num2 = 48, 18\n",
        "gcd = find_gcd(num1, num2)\n",
        "print(\"GCD:\", gcd)\n"
      ],
      "metadata": {
        "colab": {
          "base_uri": "https://localhost:8080/"
        },
        "id": "Kop7e4QlZhI2",
        "outputId": "24a70a46-2589-4491-ffc8-9c9e348a5ca4"
      },
      "execution_count": 21,
      "outputs": [
        {
          "output_type": "stream",
          "name": "stdout",
          "text": [
            "GCD: 6\n"
          ]
        }
      ]
    },
    {
      "cell_type": "code",
      "source": [
        "#Checking if a string is a palindrome using a for loop:\n",
        "\n",
        "my_str = \"radar\"\n",
        "is_palindrome = True\n",
        "for i in range(len(my_str)//2):\n",
        "    if my_str[i] != my_str[len(my_str)-i-1]:\n",
        "        is_palindrome = False\n",
        "        break\n",
        "print(\"Is palindrome:\", is_palindrome)\n"
      ],
      "metadata": {
        "colab": {
          "base_uri": "https://localhost:8080/"
        },
        "id": "qBgzUiwEZlSi",
        "outputId": "56cbcf70-ee15-458b-a6ab-6de97bfb20d7"
      },
      "execution_count": 22,
      "outputs": [
        {
          "output_type": "stream",
          "name": "stdout",
          "text": [
            "Is palindrome: True\n"
          ]
        }
      ]
    },
    {
      "cell_type": "code",
      "source": [
        "#Removing duplicates from a list using a for loop:\n",
        "\n",
        "original_list = [1, 2, 2, 3, 4, 4, 5]\n",
        "unique_list = []\n",
        "for item in original_list:\n",
        "    if item not in unique_list:\n",
        "        unique_list.append(item)\n",
        "print(\"List without duplicates:\", unique_list)\n"
      ],
      "metadata": {
        "colab": {
          "base_uri": "https://localhost:8080/"
        },
        "id": "axAzT33DZpIZ",
        "outputId": "bfef58de-ce8c-4625-efcd-a99d8d2221e3"
      },
      "execution_count": 23,
      "outputs": [
        {
          "output_type": "stream",
          "name": "stdout",
          "text": [
            "List without duplicates: [1, 2, 3, 4, 5]\n"
          ]
        }
      ]
    },
    {
      "cell_type": "code",
      "source": [
        "#Counting the number of words in a sentence using a for loop:\n",
        "\n",
        "sentence = \"This is a sample sentence.\"\n",
        "word_count = len(sentence.split())\n",
        "print(\"Number of words:\", word_count)\n"
      ],
      "metadata": {
        "colab": {
          "base_uri": "https://localhost:8080/"
        },
        "id": "38aE3nZfZtLw",
        "outputId": "e8c34559-764d-4ea0-edab-52d62456e3cd"
      },
      "execution_count": 25,
      "outputs": [
        {
          "output_type": "stream",
          "name": "stdout",
          "text": [
            "Number of words: 5\n"
          ]
        }
      ]
    },
    {
      "cell_type": "code",
      "source": [
        "#Finding the sum of all odd numbers from 1 to 50 using a for loop:\n",
        "odd_sum = 0\n",
        "for i in range(1, 51, 2):\n",
        "    odd_sum += i\n",
        "print(\"Sum of odd numbers:\", odd_sum)\n"
      ],
      "metadata": {
        "colab": {
          "base_uri": "https://localhost:8080/"
        },
        "id": "g6wbWAwBZvjN",
        "outputId": "a43b86ca-b4e8-442d-b7c0-6de85854b0b0"
      },
      "execution_count": 26,
      "outputs": [
        {
          "output_type": "stream",
          "name": "stdout",
          "text": [
            "Sum of odd numbers: 625\n"
          ]
        }
      ]
    },
    {
      "cell_type": "code",
      "source": [
        "#Checking if a given year is a leap year using a for loop:\n",
        "year = 2024\n",
        "is_leap_year = False\n",
        "for i in range(4):\n",
        "    if (year + i) % 4 == 0 and ((year + i) % 100 != 0 or (year + i) % 400 == 0):\n",
        "        is_leap_year = True\n",
        "        break\n",
        "print(f\"{year} is a leap year: {is_leap_year}\")\n"
      ],
      "metadata": {
        "colab": {
          "base_uri": "https://localhost:8080/"
        },
        "id": "_p3KLT_iZ11b",
        "outputId": "5a3f9e9e-5df6-4b94-f4bd-0abe95d57875"
      },
      "execution_count": 28,
      "outputs": [
        {
          "output_type": "stream",
          "name": "stdout",
          "text": [
            "2024 is a leap year: True\n"
          ]
        }
      ]
    },
    {
      "cell_type": "code",
      "source": [
        "#Calculating the square root of a number using a for loop:\n",
        "import math\n",
        "\n",
        "num = 25\n",
        "sqrt_guess = num / 2\n",
        "for _ in range(10):  # Adjust the number of iterations for better accuracy\n",
        "    sqrt_guess = (sqrt_guess + num / sqrt_guess) / 2\n",
        "print(\"Square root:\", sqrt_guess)\n"
      ],
      "metadata": {
        "colab": {
          "base_uri": "https://localhost:8080/"
        },
        "id": "A-OhwZAkZ4rH",
        "outputId": "76930e48-ea39-40ad-f1da-54e6cbf538c9"
      },
      "execution_count": 29,
      "outputs": [
        {
          "output_type": "stream",
          "name": "stdout",
          "text": [
            "Square root: 5.0\n"
          ]
        }
      ]
    },
    {
      "cell_type": "code",
      "source": [
        "#Finding the LCM of two numbers using a for loop:\n",
        "def find_lcm(x, y):\n",
        "    gcd = find_gcd(x, y)\n",
        "    lcm = (x * y) // gcd\n",
        "    return lcm\n",
        "\n",
        "num1, num2 = 12, 18\n",
        "lcm = find_lcm(num1, num2)\n",
        "print(\"LCM:\", lcm)\n"
      ],
      "metadata": {
        "colab": {
          "base_uri": "https://localhost:8080/"
        },
        "id": "DhHAexeMZ_jH",
        "outputId": "898201fa-d30a-407a-ec53-fc2b5a5c991f"
      },
      "execution_count": 30,
      "outputs": [
        {
          "output_type": "stream",
          "name": "stdout",
          "text": [
            "LCM: 36\n"
          ]
        }
      ]
    },
    {
      "cell_type": "code",
      "source": [
        "##  IF ELSE"
      ],
      "metadata": {
        "id": "GVw3SGB9aEMM"
      },
      "execution_count": 1,
      "outputs": []
    },
    {
      "cell_type": "code",
      "source": [
        "# Write a Python program to check if a number is positive, negative, or zero using an if-else statement.\n",
        "num = 42\n",
        "\n",
        "if num > 0:\n",
        "    print(\"Positive number\")\n",
        "elif num < 0:\n",
        "    print(\"Negative number\")\n",
        "else:\n",
        "    print(\"Zero\")\n"
      ],
      "metadata": {
        "colab": {
          "base_uri": "https://localhost:8080/"
        },
        "id": "tF31AbayraxU",
        "outputId": "f669a988-2d79-40f9-9511-ab6b434958fb"
      },
      "execution_count": 2,
      "outputs": [
        {
          "output_type": "stream",
          "name": "stdout",
          "text": [
            "Positive number\n"
          ]
        }
      ]
    },
    {
      "cell_type": "code",
      "source": [
        "# Create a Python program that checks if a given number is even or odd using an if-else statement.\n",
        "num = 17\n",
        "\n",
        "if num % 2 == 0:\n",
        "    print(\"Even number\")\n",
        "else:\n",
        "    print(\"Odd number\")\n"
      ],
      "metadata": {
        "colab": {
          "base_uri": "https://localhost:8080/"
        },
        "id": "WgesUBryrcp9",
        "outputId": "d5806b4d-11de-4849-db2a-56a910017580"
      },
      "execution_count": 3,
      "outputs": [
        {
          "output_type": "stream",
          "name": "stdout",
          "text": [
            "Odd number\n"
          ]
        }
      ]
    },
    {
      "cell_type": "code",
      "source": [
        "# How can you use nested if-else statements in Python, and provide an example?\n",
        "num = -15\n",
        "\n",
        "if num >= 0:\n",
        "    if num % 2 == 0:\n",
        "        print(\"Positive even number\")\n",
        "    else:\n",
        "        print(\"Positive odd number\")\n",
        "else:\n",
        "    if num % 2 == 0:\n",
        "        print(\"Negative even number\")\n",
        "    else:\n",
        "        print(\"Negative odd number\")\n"
      ],
      "metadata": {
        "colab": {
          "base_uri": "https://localhost:8080/"
        },
        "id": "fteBt8eQreY0",
        "outputId": "243e3067-371c-4b21-a843-dfe8a3aa8776"
      },
      "execution_count": 4,
      "outputs": [
        {
          "output_type": "stream",
          "name": "stdout",
          "text": [
            "Negative odd number\n"
          ]
        }
      ]
    },
    {
      "cell_type": "code",
      "source": [
        "# Write a Python program to determine the largest of three numbers using if-else.\n",
        "num1, num2, num3 = 25, 42, 18\n",
        "\n",
        "if num1 >= num2 and num1 >= num3:\n",
        "    print(\"Largest number:\", num1)\n",
        "elif num2 >= num1 and num2 >= num3:\n",
        "    print(\"Largest number:\", num2)\n",
        "else:\n",
        "    print(\"Largest number:\", num3)\n"
      ],
      "metadata": {
        "colab": {
          "base_uri": "https://localhost:8080/"
        },
        "id": "qVISJFNlrhzd",
        "outputId": "15d20940-01e1-4b51-db1b-ed5e4067b768"
      },
      "execution_count": 5,
      "outputs": [
        {
          "output_type": "stream",
          "name": "stdout",
          "text": [
            "Largest number: 42\n"
          ]
        }
      ]
    },
    {
      "cell_type": "code",
      "source": [
        "# Write a Python program that calculates the absolute value of a number using if-else.\n",
        "num = -10\n",
        "\n",
        "if num < 0:\n",
        "    abs_value = -num\n",
        "else:\n",
        "    abs_value = num\n",
        "\n",
        "print(\"Absolute value:\", abs_value)\n"
      ],
      "metadata": {
        "colab": {
          "base_uri": "https://localhost:8080/"
        },
        "id": "jA0xzRfUrksm",
        "outputId": "0981a6ec-9468-4fcb-c15a-62a8c1455965"
      },
      "execution_count": 6,
      "outputs": [
        {
          "output_type": "stream",
          "name": "stdout",
          "text": [
            "Absolute value: 10\n"
          ]
        }
      ]
    },
    {
      "cell_type": "code",
      "source": [
        "# Create a Python program that checks if a given character is a vowel or consonant using if-else.\n",
        "char = 'a'\n",
        "\n",
        "if char.lower() in \"aeiou\":\n",
        "    print(\"Vowel\")\n",
        "else:\n",
        "    print(\"Consonant\")\n"
      ],
      "metadata": {
        "colab": {
          "base_uri": "https://localhost:8080/"
        },
        "id": "mpSsjy20ro2A",
        "outputId": "2a3d0dda-606e-476d-f144-437d7d647c2b"
      },
      "execution_count": 7,
      "outputs": [
        {
          "output_type": "stream",
          "name": "stdout",
          "text": [
            "Vowel\n"
          ]
        }
      ]
    },
    {
      "cell_type": "code",
      "source": [
        "# Write a Python program to determine if a user is eligible to vote based on their age using if-else.\n",
        "age = 20\n",
        "\n",
        "if age >= 18:\n",
        "    print(\"Eligible to vote\")\n",
        "else:\n",
        "    print(\"Not eligible to vote\")\n"
      ],
      "metadata": {
        "colab": {
          "base_uri": "https://localhost:8080/"
        },
        "id": "F-sJwfwsrwzM",
        "outputId": "d15290a1-aab2-4d31-c7a3-d2a135c35651"
      },
      "execution_count": 8,
      "outputs": [
        {
          "output_type": "stream",
          "name": "stdout",
          "text": [
            "Eligible to vote\n"
          ]
        }
      ]
    },
    {
      "cell_type": "code",
      "source": [
        "# Create a Python program that calculates the discount amount based on the purchase amount using if-else.\n",
        "purchase_amount = 120\n",
        "\n",
        "if purchase_amount > 100:\n",
        "    discount = 0.1 * purchase_amount\n",
        "else:\n",
        "    discount = 0\n",
        "\n",
        "print(\"Discount amount:\", discount)\n"
      ],
      "metadata": {
        "colab": {
          "base_uri": "https://localhost:8080/"
        },
        "id": "xmHvVnaAsBHr",
        "outputId": "5f6b793a-d8c8-464f-fbab-ae340412f9c2"
      },
      "execution_count": 9,
      "outputs": [
        {
          "output_type": "stream",
          "name": "stdout",
          "text": [
            "Discount amount: 12.0\n"
          ]
        }
      ]
    },
    {
      "cell_type": "code",
      "source": [
        "# Write a Python program to check if a number is within a specified range using if-else.\n",
        "num = 75\n",
        "lower_limit, upper_limit = 50, 100\n",
        "\n",
        "if lower_limit <= num <= upper_limit:\n",
        "    print(\"Number is within the specified range\")\n",
        "else:\n",
        "    print(\"Number is outside the specified range\")\n"
      ],
      "metadata": {
        "colab": {
          "base_uri": "https://localhost:8080/"
        },
        "id": "YA7pkrVWsCyR",
        "outputId": "bf3a29a6-f49a-4d3d-fb3a-9a2fa1604065"
      },
      "execution_count": 10,
      "outputs": [
        {
          "output_type": "stream",
          "name": "stdout",
          "text": [
            "Number is within the specified range\n"
          ]
        }
      ]
    },
    {
      "cell_type": "code",
      "source": [
        "# Create a Python program that determines the grade of a student based on their score using if-else.\n",
        "score = 85\n",
        "\n",
        "if score >= 90:\n",
        "    grade = 'A'\n",
        "elif score >= 80:\n",
        "    grade = 'B'\n",
        "elif score >= 70:\n",
        "    grade = 'C'\n",
        "elif score >= 60:\n",
        "    grade = 'D'\n",
        "else:\n",
        "    grade = 'F'\n",
        "\n",
        "print(\"Grade:\", grade)\n"
      ],
      "metadata": {
        "colab": {
          "base_uri": "https://localhost:8080/"
        },
        "id": "4GpmSB7ksEcM",
        "outputId": "f8a346d1-ecd6-4591-ddaf-e880403b8e62"
      },
      "execution_count": 11,
      "outputs": [
        {
          "output_type": "stream",
          "name": "stdout",
          "text": [
            "Grade: B\n"
          ]
        }
      ]
    },
    {
      "cell_type": "code",
      "source": [
        "# Write a Python program to check if a string is empty or not using if-else.\n",
        "my_string = \"\"\n",
        "\n",
        "if my_string:\n",
        "    print(\"String is not empty\")\n",
        "else:\n",
        "    print(\"String is empty\")\n"
      ],
      "metadata": {
        "colab": {
          "base_uri": "https://localhost:8080/"
        },
        "id": "2Rp5LnHSsGXf",
        "outputId": "a6a4641b-4db9-4c0c-fe15-3b7e25eb5cd7"
      },
      "execution_count": 12,
      "outputs": [
        {
          "output_type": "stream",
          "name": "stdout",
          "text": [
            "String is empty\n"
          ]
        }
      ]
    },
    {
      "cell_type": "code",
      "source": [
        "# Create a Python program that identifies the type of a triangle (e.g., equilateral, isosceles, or scalene) based on input values using if-else.\n",
        "side1, side2, side3 = 3, 4, 5\n",
        "\n",
        "if side1 == side2 == side3:\n",
        "    print(\"Equilateral triangle\")\n",
        "elif side1 == side2 or side1 == side3 or side2 == side3:\n",
        "    print(\"Isosceles triangle\")\n",
        "else:\n",
        "    print(\"Scalene triangle\")\n"
      ],
      "metadata": {
        "colab": {
          "base_uri": "https://localhost:8080/"
        },
        "id": "iglPCN3tsH4-",
        "outputId": "d9afcee5-eb33-4359-9ed2-d56626f5db4f"
      },
      "execution_count": 13,
      "outputs": [
        {
          "output_type": "stream",
          "name": "stdout",
          "text": [
            "Scalene triangle\n"
          ]
        }
      ]
    },
    {
      "cell_type": "code",
      "source": [
        "# Write a Python program to determine the day of the week based on a user-provided number using if-else.\n",
        "day_number = int(input(\"Enter a number (1-7) representing the day of the week: \"))\n",
        "\n",
        "if day_number == 1:\n",
        "    print(\"Monday\")\n",
        "elif day_number == 2:\n",
        "    print(\"Tuesday\")\n",
        "elif day_number == 3:\n",
        "    print(\"Wednesday\")\n",
        "elif day_number == 4:\n",
        "    print(\"Thursday\")\n",
        "elif day_number == 5:\n",
        "    print(\"Friday\")\n",
        "elif day_number == 6:\n",
        "    print(\"Saturday\")\n",
        "elif day_number == 7:\n",
        "    print(\"Sunday\")\n",
        "else:\n",
        "    print(\"Invalid input. Please enter a number between 1 and 7.\")\n"
      ],
      "metadata": {
        "colab": {
          "base_uri": "https://localhost:8080/"
        },
        "id": "10gWIhtQsJ8l",
        "outputId": "197f7493-a8f5-492e-892e-2470485c4b06"
      },
      "execution_count": 14,
      "outputs": [
        {
          "output_type": "stream",
          "name": "stdout",
          "text": [
            "Enter a number (1-7) representing the day of the week: 2\n",
            "Tuesday\n"
          ]
        }
      ]
    },
    {
      "cell_type": "code",
      "source": [
        "# Create a Python program that checks if a given year is a leap year using both if-else and a function.\n",
        "def is_leap_year(year):\n",
        "    if (year % 4 == 0 and year % 100 != 0) or (year % 400 == 0):\n",
        "        return True\n",
        "    else:\n",
        "        return False\n",
        "\n",
        "year = int(input(\"Enter a year: \"))\n",
        "\n",
        "if is_leap_year(year):\n",
        "    print(f\"{year} is a leap year.\")\n",
        "else:\n",
        "    print(f\"{year} is not a leap year.\")\n"
      ],
      "metadata": {
        "colab": {
          "base_uri": "https://localhost:8080/"
        },
        "id": "DrDZGjtvsgjr",
        "outputId": "8a5f8f71-3a7e-4e34-961c-f4affe9077e0"
      },
      "execution_count": 15,
      "outputs": [
        {
          "output_type": "stream",
          "name": "stdout",
          "text": [
            "Enter a year: 2001\n",
            "2001 is not a leap year.\n"
          ]
        }
      ]
    },
    {
      "cell_type": "code",
      "source": [
        "# How do you use the \"assert\" statement in Python to add debugging checks within if-else blocks?\n",
        "number = 10\n",
        "\n",
        "assert number > 0, \"Number must be positive\"\n",
        "# Continue with the rest of the code if the assertion is True\n",
        "print(\"Number is positive.\")\n"
      ],
      "metadata": {
        "colab": {
          "base_uri": "https://localhost:8080/"
        },
        "id": "TvPENVUdsksj",
        "outputId": "86bdf0c6-c97c-4976-f6bb-abc62aa25b12"
      },
      "execution_count": 16,
      "outputs": [
        {
          "output_type": "stream",
          "name": "stdout",
          "text": [
            "Number is positive.\n"
          ]
        }
      ]
    },
    {
      "cell_type": "code",
      "source": [
        "# Write a Python program to determine the eligibility of a person for a senior citizen discount based on age using if-else.\n",
        "age = int(input(\"Enter your age: \"))\n",
        "\n",
        "if age >= 60:\n",
        "    print(\"You are eligible for a senior citizen discount.\")\n",
        "else:\n",
        "    print(\"You are not eligible for a senior citizen discount.\")\n"
      ],
      "metadata": {
        "colab": {
          "base_uri": "https://localhost:8080/"
        },
        "id": "2WCV5roIsoK2",
        "outputId": "fb37daf7-52c8-43eb-bd19-cf25fea13ac8"
      },
      "execution_count": 17,
      "outputs": [
        {
          "output_type": "stream",
          "name": "stdout",
          "text": [
            "Enter your age: 21\n",
            "You are not eligible for a senior citizen discount.\n"
          ]
        }
      ]
    },
    {
      "cell_type": "code",
      "source": [
        "# Write a Python program to categorize a given character as uppercase, lowercase, or neither using if-else.\n",
        "char = input(\"Enter a character: \")\n",
        "\n",
        "if char.isupper():\n",
        "    print(\"Uppercase character\")\n",
        "elif char.islower():\n",
        "    print(\"Lowercase character\")\n",
        "else:\n",
        "    print(\"Neither uppercase nor lowercase character\")\n"
      ],
      "metadata": {
        "colab": {
          "base_uri": "https://localhost:8080/"
        },
        "id": "U749m3wGsrJo",
        "outputId": "70b2d82c-7dec-4c72-f4de-3327fc9bc8fe"
      },
      "execution_count": 18,
      "outputs": [
        {
          "output_type": "stream",
          "name": "stdout",
          "text": [
            "Enter a character: b\n",
            "Lowercase character\n"
          ]
        }
      ]
    },
    {
      "cell_type": "code",
      "source": [
        "# Write a Python program to determine the roots of a quadratic equation using if-else.\n",
        "import math\n",
        "\n",
        "a, b, c = 1, -3, 2\n",
        "\n",
        "discriminant = b**2 - 4*a*c\n",
        "\n",
        "if discriminant > 0:\n",
        "    root1 = (-b + math.sqrt(discriminant)) / (2*a)\n",
        "    root2 = (-b - math.sqrt(discriminant)) / (2*a)\n",
        "    print(f\"Roots are real and different: {root1}, {root2}\")\n",
        "elif discriminant == 0:\n",
        "    root = -b / (2*a)\n",
        "    print(f\"Roots are real and identical: {root}\")\n",
        "else:\n",
        "    print(\"Roots are complex.\")\n"
      ],
      "metadata": {
        "colab": {
          "base_uri": "https://localhost:8080/"
        },
        "id": "8Z6ULqLZsuCO",
        "outputId": "76a3bf46-29f5-4a05-f38a-9844dbc8774e"
      },
      "execution_count": 19,
      "outputs": [
        {
          "output_type": "stream",
          "name": "stdout",
          "text": [
            "Roots are real and different: 2.0, 1.0\n"
          ]
        }
      ]
    },
    {
      "cell_type": "code",
      "source": [
        "# Create a Python program that checks if a given year is a century year or not using if-else.\n",
        "year = int(input(\"Enter a year: \"))\n",
        "\n",
        "if year % 100 == 0:\n",
        "    print(f\"{year} is a century year.\")\n",
        "else:\n",
        "    print(f\"{year} is not a century year.\")\n"
      ],
      "metadata": {
        "colab": {
          "base_uri": "https://localhost:8080/"
        },
        "id": "Hk86lbPqsxQP",
        "outputId": "a5ad3093-f6dc-4d5e-870c-4cb8f61a84c1"
      },
      "execution_count": 20,
      "outputs": [
        {
          "output_type": "stream",
          "name": "stdout",
          "text": [
            "Enter a year: 2001\n",
            "2001 is not a century year.\n"
          ]
        }
      ]
    },
    {
      "cell_type": "code",
      "source": [
        "# Write a Python program to determine if a given number is a perfect square using if-else.\n",
        "number = int(input(\"Enter a number: \"))\n",
        "\n",
        "if math.isqrt(number)**2 == number:\n",
        "    print(f\"{number} is a perfect square.\")\n",
        "else:\n",
        "    print(f\"{number} is not a perfect square.\")\n"
      ],
      "metadata": {
        "colab": {
          "base_uri": "https://localhost:8080/"
        },
        "id": "anfIq42rs9wS",
        "outputId": "7d8135e5-43a2-41bd-e3e1-4d6bf5943759"
      },
      "execution_count": 21,
      "outputs": [
        {
          "output_type": "stream",
          "name": "stdout",
          "text": [
            "Enter a number: 25\n",
            "25 is a perfect square.\n"
          ]
        }
      ]
    },
    {
      "cell_type": "code",
      "source": [
        "# Explaining the purpose of the \"continue\" and \"break\" statements within if-else loops:\n",
        "# The \"continue\" statement is used to skip the rest of the code inside the loop for the current iteration and move to the next iteration.\n",
        "\n",
        "# The \"break\" statement is used to exit the loop prematurely, regardless of the loop condition."
      ],
      "metadata": {
        "id": "15FTzqg3tAdT"
      },
      "execution_count": 22,
      "outputs": []
    },
    {
      "cell_type": "code",
      "source": [
        "# Create a Python program that calculates the BMI (Body Mass Index) of a person based on their weight and height using if-else.\n",
        "weight = float(input(\"Enter your weight in kilograms: \"))\n",
        "height = float(input(\"Enter your height in meters: \"))\n",
        "\n",
        "bmi = weight / (height**2)\n",
        "\n",
        "if bmi < 18.5:\n",
        "    category = \"Underweight\"\n",
        "elif 18.5 <= bmi < 25:\n",
        "    category = \"Normal weight\"\n",
        "elif 25 <= bmi < 30:\n",
        "    category = \"Overweight\"\n",
        "else:\n",
        "    category = \"Obese\"\n",
        "\n",
        "print(f\"Your BMI is {bmi:.2f}, and you are classified as {category}.\")\n"
      ],
      "metadata": {
        "colab": {
          "base_uri": "https://localhost:8080/"
        },
        "id": "XjpyJHdQtPSb",
        "outputId": "0e27393e-920b-4504-b9bb-f483e9869072"
      },
      "execution_count": 24,
      "outputs": [
        {
          "output_type": "stream",
          "name": "stdout",
          "text": [
            "Enter your weight in kilograms: 70\n",
            "Enter your height in meters: 1.8\n",
            "Your BMI is 21.60, and you are classified as Normal weight.\n"
          ]
        }
      ]
    },
    {
      "cell_type": "code",
      "source": [
        "# How can you use the \"filter()\" function with if-else statements to filter elements from a list?\n",
        "numbers = [1, 2, 3, 4, 5, 6, 7, 8, 9]\n",
        "\n",
        "filtered_numbers = filter(lambda x: x % 2 == 0, numbers)\n",
        "\n",
        "even_numbers = list(filtered_numbers)\n",
        "\n",
        "print(\"Even numbers:\", even_numbers)\n"
      ],
      "metadata": {
        "colab": {
          "base_uri": "https://localhost:8080/"
        },
        "id": "5M2xOo_RtRJt",
        "outputId": "d72bde3a-2ef0-42a4-a8a9-b999d0542de8"
      },
      "execution_count": 25,
      "outputs": [
        {
          "output_type": "stream",
          "name": "stdout",
          "text": [
            "Even numbers: [2, 4, 6, 8]\n"
          ]
        }
      ]
    },
    {
      "cell_type": "code",
      "source": [
        "# Write a Python program to determine if a given number is prime or not using if-else.\n",
        "number = int(input(\"Enter a number: \"))\n",
        "\n",
        "if number > 1:\n",
        "    for i in range(2, int(math.sqrt(number)) + 1):\n",
        "        if number % i == 0:\n",
        "            print(f\"{number} is not a prime number.\")\n",
        "            break\n",
        "    else:\n",
        "        print(f\"{number} is a prime number.\")\n",
        "else:\n",
        "    print(f\"{number} is not a prime number.\")\n"
      ],
      "metadata": {
        "colab": {
          "base_uri": "https://localhost:8080/"
        },
        "id": "hnYV_iRbtcig",
        "outputId": "42b3ad80-d7b4-4915-d19b-ec1d3e085e7f"
      },
      "execution_count": 26,
      "outputs": [
        {
          "output_type": "stream",
          "name": "stdout",
          "text": [
            "Enter a number: 56\n",
            "56 is not a prime number.\n"
          ]
        }
      ]
    },
    {
      "cell_type": "code",
      "source": [
        "## MAP"
      ],
      "metadata": {
        "id": "Dv6KA0D7tmpl"
      },
      "execution_count": 27,
      "outputs": []
    },
    {
      "cell_type": "code",
      "source": [
        "# Purpose of the map() function in Python:\n",
        "\n",
        "# The map() function in Python is used to apply a specified function to all the items in an iterable (e.g., a list) and return an iterable map object (in Python 3) or a list (in Python 2) of the results.\n",
        "\n"
      ],
      "metadata": {
        "id": "zzVM6SBituOe"
      },
      "execution_count": 28,
      "outputs": []
    },
    {
      "cell_type": "code",
      "source": [
        "# Write a Python program that uses the `map()` function to square each element of a list of numbers.\n",
        "numbers = [1, 2, 3, 4, 5]\n",
        "\n",
        "squared_numbers = list(map(lambda x: x**2, numbers))\n",
        "print(\"Squared numbers:\", squared_numbers)\n"
      ],
      "metadata": {
        "colab": {
          "base_uri": "https://localhost:8080/"
        },
        "id": "WnYlwERbtzgO",
        "outputId": "408c46b6-ecda-4a71-a64f-1a7cfb2877eb"
      },
      "execution_count": 29,
      "outputs": [
        {
          "output_type": "stream",
          "name": "stdout",
          "text": [
            "Squared numbers: [1, 4, 9, 16, 25]\n"
          ]
        }
      ]
    },
    {
      "cell_type": "code",
      "source": [
        "# Difference between map() and list comprehension:\n",
        "\n",
        "# map() is a built-in function that applies a given function to all items in an iterable and returns an iterable map object.\n",
        "# List comprehension is a concise way to create lists by specifying the operation to be performed on each element.\n",
        "# Choose between them based on readability and simplicity. List comprehension is often more concise, while map() may be preferred when using an existing function or for complex operations."
      ],
      "metadata": {
        "id": "j_wed1Eyt1PQ"
      },
      "execution_count": 30,
      "outputs": []
    },
    {
      "cell_type": "code",
      "source": [
        "# Create a Python program that uses the `map()` function to convert a list of names to uppercase.\n",
        "names = [\"Alice\", \"Bob\", \"Charlie\"]\n",
        "\n",
        "uppercase_names = list(map(str.upper, names))\n",
        "print(\"Uppercase names:\", uppercase_names)\n"
      ],
      "metadata": {
        "colab": {
          "base_uri": "https://localhost:8080/"
        },
        "id": "EEh_kkt_t6P3",
        "outputId": "7ac27758-6ad7-404f-b136-64bef1118eba"
      },
      "execution_count": 31,
      "outputs": [
        {
          "output_type": "stream",
          "name": "stdout",
          "text": [
            "Uppercase names: ['ALICE', 'BOB', 'CHARLIE']\n"
          ]
        }
      ]
    },
    {
      "cell_type": "code",
      "source": [
        "# Write a Python program that uses the `map()` function to calculate the length of each word in a list of strings.\n",
        "words = [\"apple\", \"banana\", \"cherry\"]\n",
        "\n",
        "word_lengths = list(map(len, words))\n",
        "print(\"Word lengths:\", word_lengths)\n"
      ],
      "metadata": {
        "colab": {
          "base_uri": "https://localhost:8080/"
        },
        "id": "jppKAzZgt815",
        "outputId": "eda1c57e-f1d7-4c25-92d8-d3277ea519ba"
      },
      "execution_count": 32,
      "outputs": [
        {
          "output_type": "stream",
          "name": "stdout",
          "text": [
            "Word lengths: [5, 6, 6]\n"
          ]
        }
      ]
    },
    {
      "cell_type": "code",
      "source": [
        "# How can you use the `map()` function to apply a custom function to elements of multiple lists simultaneously in Python?\n",
        "list1 = [1, 2, 3]\n",
        "list2 = [4, 5, 6]\n",
        "\n",
        "result = list(map(lambda x, y: x + y, list1, list2))\n",
        "print(\"Result:\", result)\n"
      ],
      "metadata": {
        "colab": {
          "base_uri": "https://localhost:8080/"
        },
        "id": "SJQCBOXTt_9A",
        "outputId": "18eeb340-3943-4426-f9d1-ddca6e1eaf57"
      },
      "execution_count": 33,
      "outputs": [
        {
          "output_type": "stream",
          "name": "stdout",
          "text": [
            "Result: [5, 7, 9]\n"
          ]
        }
      ]
    },
    {
      "cell_type": "code",
      "source": [
        "# Create a Python program that uses `map()` to convert a list of temperatures from Celsius to Fahrenheit.\n",
        "celsius_temperatures = [0, 10, 20, 30]\n",
        "\n",
        "fahrenheit_temperatures = list(map(lambda c: (c * 9/5) + 32, celsius_temperatures))\n",
        "print(\"Fahrenheit temperatures:\", fahrenheit_temperatures)\n"
      ],
      "metadata": {
        "colab": {
          "base_uri": "https://localhost:8080/"
        },
        "id": "lfK8Ctf0uB_l",
        "outputId": "8a9c2248-a9fa-4ced-c85c-dd9a17c510d9"
      },
      "execution_count": 34,
      "outputs": [
        {
          "output_type": "stream",
          "name": "stdout",
          "text": [
            "Fahrenheit temperatures: [32.0, 50.0, 68.0, 86.0]\n"
          ]
        }
      ]
    },
    {
      "cell_type": "code",
      "source": [
        "# Write a Python program that uses the `map()` function to round each element of a list of floating-point numbers to the nearest integer.\n",
        "float_numbers = [1.5, 2.7, 3.9, 4.2]\n",
        "\n",
        "rounded_integers = list(map(round, float_numbers))\n",
        "print(\"Rounded integers:\", rounded_integers)\n"
      ],
      "metadata": {
        "colab": {
          "base_uri": "https://localhost:8080/"
        },
        "id": "oPXRu41DuEXX",
        "outputId": "dd14f6b5-61e4-45a5-e24c-9b134230ed20"
      },
      "execution_count": 35,
      "outputs": [
        {
          "output_type": "stream",
          "name": "stdout",
          "text": [
            "Rounded integers: [2, 3, 4, 4]\n"
          ]
        }
      ]
    },
    {
      "cell_type": "code",
      "source": [
        "## REDUCE"
      ],
      "metadata": {
        "id": "RDyoKysVuGZi"
      },
      "execution_count": 36,
      "outputs": []
    },
    {
      "cell_type": "code",
      "source": [
        "# What is the reduce() function in Python, and what module should you import to use it? Example of basic usage:\n",
        "\n",
        "# The reduce() function is part of the functools module in Python. It repeatedly applies a binary function to the items in an iterable, reducing the iterable to a single accumulated result."
      ],
      "metadata": {
        "id": "s9BGnhcOuQuy"
      },
      "execution_count": 37,
      "outputs": []
    },
    {
      "cell_type": "code",
      "source": [
        "from functools import reduce\n",
        "\n",
        "# Example of basic usage\n",
        "numbers = [1, 2, 3, 4, 5]\n",
        "\n",
        "# Calculate the product of all elements in the list\n",
        "product = reduce(lambda x, y: x * y, numbers)\n",
        "print(\"Product:\", product)\n"
      ],
      "metadata": {
        "colab": {
          "base_uri": "https://localhost:8080/"
        },
        "id": "AAWAnrbbuSnV",
        "outputId": "08a49352-adfe-446f-93ac-a7121e809f62"
      },
      "execution_count": 38,
      "outputs": [
        {
          "output_type": "stream",
          "name": "stdout",
          "text": [
            "Product: 120\n"
          ]
        }
      ]
    },
    {
      "cell_type": "code",
      "source": [
        "from functools import reduce\n",
        "\n",
        "# Write a Python program that uses the `reduce()` function to find the product of all elements in a list.\n",
        "numbers = [2, 3, 4, 5]\n",
        "\n",
        "product = reduce(lambda x, y: x * y, numbers)\n",
        "print(\"Product:\", product)\n"
      ],
      "metadata": {
        "colab": {
          "base_uri": "https://localhost:8080/"
        },
        "id": "2Th6t2F9uhUg",
        "outputId": "01879c9b-5a52-49c6-a982-3f89c159ba5b"
      },
      "execution_count": 39,
      "outputs": [
        {
          "output_type": "stream",
          "name": "stdout",
          "text": [
            "Product: 120\n"
          ]
        }
      ]
    },
    {
      "cell_type": "code",
      "source": [
        "from functools import reduce\n",
        "\n",
        "# Create a Python program that uses `reduce()` to find the maximum element in a list of numbers.\n",
        "numbers = [10, 5, 8, 20, 3]\n",
        "\n",
        "maximum = reduce(lambda x, y: x if x > y else y, numbers)\n",
        "print(\"Maximum:\", maximum)\n"
      ],
      "metadata": {
        "colab": {
          "base_uri": "https://localhost:8080/"
        },
        "id": "8vnUUhLhuh6K",
        "outputId": "849bc82b-98c1-46ae-ffeb-bf6002f7046b"
      },
      "execution_count": 40,
      "outputs": [
        {
          "output_type": "stream",
          "name": "stdout",
          "text": [
            "Maximum: 20\n"
          ]
        }
      ]
    },
    {
      "cell_type": "code",
      "source": [
        "from functools import reduce\n",
        "\n",
        "# How can you use the `reduce()` function to concatenate a list of strings into a single string?\n",
        "strings = [\"Hello\", \", \", \"World\", \"!\"]\n",
        "\n",
        "concatenated_string = reduce(lambda x, y: x + y, strings)\n",
        "print(\"Concatenated string:\", concatenated_string)\n"
      ],
      "metadata": {
        "colab": {
          "base_uri": "https://localhost:8080/"
        },
        "id": "1pWLmfP4ujl_",
        "outputId": "46448be5-28b5-4711-e4b2-3f25d3cb4916"
      },
      "execution_count": 41,
      "outputs": [
        {
          "output_type": "stream",
          "name": "stdout",
          "text": [
            "Concatenated string: Hello, World!\n"
          ]
        }
      ]
    },
    {
      "cell_type": "code",
      "source": [
        "from functools import reduce\n",
        "\n",
        "# Write a Python program that calculates the factorial of a number using the `reduce()` function.\n",
        "number = 5\n",
        "\n",
        "factorial = reduce(lambda x, y: x * y, range(1, number + 1))\n",
        "print(f\"The factorial of {number} is:\", factorial)\n"
      ],
      "metadata": {
        "colab": {
          "base_uri": "https://localhost:8080/"
        },
        "id": "l_SEJopNulo5",
        "outputId": "1034a4d2-855e-44db-bfa4-59bd38f0875d"
      },
      "execution_count": 42,
      "outputs": [
        {
          "output_type": "stream",
          "name": "stdout",
          "text": [
            "The factorial of 5 is: 120\n"
          ]
        }
      ]
    },
    {
      "cell_type": "code",
      "source": [
        "from functools import reduce\n",
        "from math import gcd\n",
        "\n",
        "# Create a Python program that uses `reduce()` to find the GCD (Greatest Common Divisor) of a list of numbers.\n",
        "numbers = [12, 18, 24, 30]\n",
        "\n",
        "gcd_result = reduce(gcd, numbers)\n",
        "print(\"GCD:\", gcd_result)\n"
      ],
      "metadata": {
        "colab": {
          "base_uri": "https://localhost:8080/"
        },
        "id": "MQWDPxwQun6X",
        "outputId": "e901d271-cf3f-4bd1-a676-a0992b5a67f7"
      },
      "execution_count": 43,
      "outputs": [
        {
          "output_type": "stream",
          "name": "stdout",
          "text": [
            "GCD: 6\n"
          ]
        }
      ]
    },
    {
      "cell_type": "code",
      "source": [
        "from functools import reduce\n",
        "\n",
        "# Write a Python program that uses the `reduce()` function to find the sum of the digits of a given number.\n",
        "number = 12345\n",
        "\n",
        "digit_sum = reduce(lambda x, y: int(x) + int(y), str(number))\n",
        "print(\"Sum of digits:\", digit_sum)\n"
      ],
      "metadata": {
        "colab": {
          "base_uri": "https://localhost:8080/"
        },
        "id": "szOSFr2cuplM",
        "outputId": "315deff1-03d3-4860-d1f4-993cad6651d0"
      },
      "execution_count": 44,
      "outputs": [
        {
          "output_type": "stream",
          "name": "stdout",
          "text": [
            "Sum of digits: 15\n"
          ]
        }
      ]
    },
    {
      "cell_type": "code",
      "source": [
        "# FILTER"
      ],
      "metadata": {
        "id": "tKVkcYU3urlc"
      },
      "execution_count": 45,
      "outputs": []
    },
    {
      "cell_type": "code",
      "source": [
        "# Purpose of the filter() function in Python and an example:\n",
        "\n",
        "# The filter() function is used to construct an iterator from elements of an iterable for which a function returns true. In other words, it filters elements based on a specified condition."
      ],
      "metadata": {
        "id": "VYdZ8PKPuzuA"
      },
      "execution_count": 46,
      "outputs": []
    },
    {
      "cell_type": "code",
      "source": [
        "# Explain the purpose of the `filter()` function in Python and provide an example of how it can be used to filter elements from an iterable.\n",
        "numbers = [1, 2, 3, 4, 5, 6, 7, 8, 9]\n",
        "\n",
        "# Example: Filter even numbers from the list\n",
        "even_numbers = list(filter(lambda x: x % 2 == 0, numbers))\n",
        "print(\"Even numbers:\", even_numbers)\n"
      ],
      "metadata": {
        "colab": {
          "base_uri": "https://localhost:8080/"
        },
        "id": "84E_J4k3u3_1",
        "outputId": "1b3e3436-a7a8-4f45-cf56-d4a594e8a08e"
      },
      "execution_count": 47,
      "outputs": [
        {
          "output_type": "stream",
          "name": "stdout",
          "text": [
            "Even numbers: [2, 4, 6, 8]\n"
          ]
        }
      ]
    },
    {
      "cell_type": "code",
      "source": [
        "# Write a Python program that uses the `filter()` function to select even numbers from a list of integers.\n",
        "numbers = [1, 2, 3, 4, 5, 6, 7, 8, 9]\n",
        "\n",
        "even_numbers = list(filter(lambda x: x % 2 == 0, numbers))\n",
        "print(\"Even numbers:\", even_numbers)\n"
      ],
      "metadata": {
        "colab": {
          "base_uri": "https://localhost:8080/"
        },
        "id": "qknr4S6Tu5iq",
        "outputId": "a7a764ca-886c-45c0-8e66-d84368969598"
      },
      "execution_count": 48,
      "outputs": [
        {
          "output_type": "stream",
          "name": "stdout",
          "text": [
            "Even numbers: [2, 4, 6, 8]\n"
          ]
        }
      ]
    },
    {
      "cell_type": "code",
      "source": [
        "# Create a Python program that uses the `filter()` function to select names that start with a specific letter from a list of strings.\n",
        "names = [\"Alice\", \"Bob\", \"Charlie\", \"David\", \"Eva\"]\n",
        "starting_letter = \"C\"\n",
        "\n",
        "filtered_names = list(filter(lambda name: name.startswith(starting_letter), names))\n",
        "print(f\"Names starting with '{starting_letter}':\", filtered_names)\n"
      ],
      "metadata": {
        "colab": {
          "base_uri": "https://localhost:8080/"
        },
        "id": "WSUpyX4nu9fB",
        "outputId": "3e089b8f-c224-4ca0-a94f-40740cf90628"
      },
      "execution_count": 49,
      "outputs": [
        {
          "output_type": "stream",
          "name": "stdout",
          "text": [
            "Names starting with 'C': ['Charlie']\n"
          ]
        }
      ]
    },
    {
      "cell_type": "code",
      "source": [
        "# Write a Python program that uses the `filter()` function to select prime numbers from a list of integers.\n",
        "def is_prime(num):\n",
        "    if num < 2:\n",
        "        return False\n",
        "    for i in range(2, int(num**0.5) + 1):\n",
        "        if num % i == 0:\n",
        "            return False\n",
        "    return True\n",
        "\n",
        "numbers = [2, 3, 4, 5, 6, 7, 8, 9, 10]\n",
        "\n",
        "prime_numbers = list(filter(is_prime, numbers))\n",
        "print(\"Prime numbers:\", prime_numbers)\n"
      ],
      "metadata": {
        "colab": {
          "base_uri": "https://localhost:8080/"
        },
        "id": "E_9gmU-Iu_Oj",
        "outputId": "4f1ff565-7e95-4de5-e09c-9266d974d24b"
      },
      "execution_count": 50,
      "outputs": [
        {
          "output_type": "stream",
          "name": "stdout",
          "text": [
            "Prime numbers: [2, 3, 5, 7]\n"
          ]
        }
      ]
    },
    {
      "cell_type": "code",
      "source": [
        "# How can you use the `filter()` function to remove None values from a list in Python?\n",
        "values = [1, None, 3, None, 5, None, 7, None, 9]\n",
        "\n",
        "filtered_values = list(filter(lambda x: x is not None, values))\n",
        "print(\"Filtered values (without None):\", filtered_values)\n"
      ],
      "metadata": {
        "colab": {
          "base_uri": "https://localhost:8080/"
        },
        "id": "3RX8Q1WdvCEH",
        "outputId": "b18f8bf5-81f2-4d65-b73c-2a64eebcae4f"
      },
      "execution_count": 51,
      "outputs": [
        {
          "output_type": "stream",
          "name": "stdout",
          "text": [
            "Filtered values (without None): [1, 3, 5, 7, 9]\n"
          ]
        }
      ]
    },
    {
      "cell_type": "code",
      "source": [
        "# Create a Python program that uses `filter()` to select words longer than a certain length from a list of strings.\n",
        "words = [\"apple\", \"banana\", \"kiwi\", \"grape\", \"orange\"]\n",
        "min_length = 5\n",
        "\n",
        "long_words = list(filter(lambda word: len(word) > min_length, words))\n",
        "print(f\"Words longer than {min_length} characters:\", long_words)\n"
      ],
      "metadata": {
        "colab": {
          "base_uri": "https://localhost:8080/"
        },
        "id": "eI7plTSHvEPC",
        "outputId": "f52d87ef-71ba-4e1e-936d-629de299b7c1"
      },
      "execution_count": 52,
      "outputs": [
        {
          "output_type": "stream",
          "name": "stdout",
          "text": [
            "Words longer than 5 characters: ['banana', 'orange']\n"
          ]
        }
      ]
    },
    {
      "cell_type": "code",
      "source": [
        "# Write a Python program that uses the `filter()` function to select elements greater than a specified threshold from a list of values.\n",
        "values = [10, 15, 20, 25, 30, 35]\n",
        "threshold = 25\n",
        "\n",
        "filtered_values = list(filter(lambda x: x > threshold, values))\n",
        "print(f\"Values greater than {threshold}:\", filtered_values)\n"
      ],
      "metadata": {
        "colab": {
          "base_uri": "https://localhost:8080/"
        },
        "id": "H8MQsjopvFxL",
        "outputId": "cf97c615-cb39-43fb-d357-9e66a84975a4"
      },
      "execution_count": 53,
      "outputs": [
        {
          "output_type": "stream",
          "name": "stdout",
          "text": [
            "Values greater than 25: [30, 35]\n"
          ]
        }
      ]
    },
    {
      "cell_type": "code",
      "source": [
        "## RECURSION"
      ],
      "metadata": {
        "id": "5xkC24YqvHM-"
      },
      "execution_count": 54,
      "outputs": []
    },
    {
      "cell_type": "code",
      "source": [
        "# Concept of recursion in Python and difference from iteration:\n",
        "\n",
        "# Recursion is a programming concept where a function calls itself to solve a smaller instance of a problem. It involves breaking down a problem into smaller subproblems and solving them recursively until reaching a base case. Recursion is an alternative to iteration (looping) for solving repetitive tasks."
      ],
      "metadata": {
        "id": "L4Vr6pADvQRE"
      },
      "execution_count": 55,
      "outputs": []
    },
    {
      "cell_type": "code",
      "source": [
        "# Write a Python program to calculate the factorial of a number using recursion.\n",
        "def factorial(n):\n",
        "    if n == 0 or n == 1:\n",
        "        return 1\n",
        "    else:\n",
        "        return n * factorial(n - 1)\n",
        "\n",
        "number = 5\n",
        "result = factorial(number)\n",
        "print(f\"The factorial of {number} is:\", result)\n"
      ],
      "metadata": {
        "colab": {
          "base_uri": "https://localhost:8080/"
        },
        "id": "73pkKjMDvcu_",
        "outputId": "5d644e56-44fa-401f-df9b-b7011154b7bb"
      },
      "execution_count": 56,
      "outputs": [
        {
          "output_type": "stream",
          "name": "stdout",
          "text": [
            "The factorial of 5 is: 120\n"
          ]
        }
      ]
    },
    {
      "cell_type": "code",
      "source": [
        "# Create a recursive Python function to find the nth Fibonacci number.\n",
        "def fibonacci(n):\n",
        "    if n <= 1:\n",
        "        return n\n",
        "    else:\n",
        "        return fibonacci(n - 1) + fibonacci(n - 2)\n",
        "\n",
        "n = 6\n",
        "result = fibonacci(n)\n",
        "print(f\"The {n}th Fibonacci number is:\", result)\n"
      ],
      "metadata": {
        "colab": {
          "base_uri": "https://localhost:8080/"
        },
        "id": "7LtUGQIlvfKk",
        "outputId": "c03c1d53-8415-4d69-98a4-752d2cf8ee46"
      },
      "execution_count": 57,
      "outputs": [
        {
          "output_type": "stream",
          "name": "stdout",
          "text": [
            "The 6th Fibonacci number is: 8\n"
          ]
        }
      ]
    },
    {
      "cell_type": "code",
      "source": [
        "# Write a recursive Python function to calculate the sum of all elements in a list.\n",
        "def list_sum(lst):\n",
        "    if not lst:\n",
        "        return 0\n",
        "    else:\n",
        "        return lst[0] + list_sum(lst[1:])\n",
        "\n",
        "numbers = [1, 2, 3, 4, 5]\n",
        "result = list_sum(numbers)\n",
        "print(\"Sum of elements:\", result)\n"
      ],
      "metadata": {
        "colab": {
          "base_uri": "https://localhost:8080/"
        },
        "id": "Dag-h9oMvhFc",
        "outputId": "2c53a0f1-4d4c-48f4-d2eb-4b44d4aacf71"
      },
      "execution_count": 58,
      "outputs": [
        {
          "output_type": "stream",
          "name": "stdout",
          "text": [
            "Sum of elements: 15\n"
          ]
        }
      ]
    },
    {
      "cell_type": "code",
      "source": [
        "# Preventing a recursive function from causing a stack overflow error:\n",
        "\n",
        "# Ensure that the recursion has a proper base case that stops the function calls. Without a base case or with a faulty base case, the recursion may continue indefinitely, leading to a stack overflow."
      ],
      "metadata": {
        "id": "J5Z3FkvLvpDz"
      },
      "execution_count": 59,
      "outputs": []
    },
    {
      "cell_type": "code",
      "source": [
        "# Create a recursive Python function to find the greatest common divisor (GCD) of two numbers using the Euclidean algorithm.\n",
        "def gcd(a, b):\n",
        "    if b == 0:\n",
        "        return a\n",
        "    else:\n",
        "        return gcd(b, a % b)\n",
        "\n",
        "num1, num2 = 48, 18\n",
        "result = gcd(num1, num2)\n",
        "print(f\"The GCD of {num1} and {num2} is:\", result)\n"
      ],
      "metadata": {
        "colab": {
          "base_uri": "https://localhost:8080/"
        },
        "id": "xyxJgkievwD7",
        "outputId": "d0056459-5465-4b5d-b83a-1e93be0fda02"
      },
      "execution_count": 60,
      "outputs": [
        {
          "output_type": "stream",
          "name": "stdout",
          "text": [
            "The GCD of 48 and 18 is: 6\n"
          ]
        }
      ]
    },
    {
      "cell_type": "code",
      "source": [
        "# Write a recursive Python function to reverse a string.\n",
        "def reverse_string(s):\n",
        "    if not s:\n",
        "        return s\n",
        "    else:\n",
        "        return reverse_string(s[1:]) + s[0]\n",
        "\n",
        "text = \"Hello\"\n",
        "result = reverse_string(text)\n",
        "print(\"Reversed string:\", result)\n"
      ],
      "metadata": {
        "colab": {
          "base_uri": "https://localhost:8080/"
        },
        "id": "c3LVKAjLvxjT",
        "outputId": "bc14438e-c2af-4572-f5fa-c88b19cb3758"
      },
      "execution_count": 61,
      "outputs": [
        {
          "output_type": "stream",
          "name": "stdout",
          "text": [
            "Reversed string: olleH\n"
          ]
        }
      ]
    },
    {
      "cell_type": "code",
      "source": [
        "# Create a recursive Python function to calculate the power of a number (x^n).\n",
        "def power(x, n):\n",
        "    if n == 0:\n",
        "        return 1\n",
        "    else:\n",
        "        return x * power(x, n - 1)\n",
        "\n",
        "base, exponent = 2, 3\n",
        "result = power(base, exponent)\n",
        "print(f\"{base} raised to the power {exponent} is:\", result)\n"
      ],
      "metadata": {
        "colab": {
          "base_uri": "https://localhost:8080/"
        },
        "id": "o7iF5ZZcvzLC",
        "outputId": "c24eccd0-4e1d-4f48-a757-de4b10098273"
      },
      "execution_count": 62,
      "outputs": [
        {
          "output_type": "stream",
          "name": "stdout",
          "text": [
            "2 raised to the power 3 is: 8\n"
          ]
        }
      ]
    },
    {
      "cell_type": "code",
      "source": [
        "# Write a recursive Python function to find all permutations of a given string.\n",
        "def permutations(s):\n",
        "    if len(s) == 1:\n",
        "        return [s]\n",
        "    else:\n",
        "        perms = []\n",
        "        for i in range(len(s)):\n",
        "            remaining = s[:i] + s[i + 1:]\n",
        "            for perm in permutations(remaining):\n",
        "                perms.append(s[i] + perm)\n",
        "        return perms\n",
        "\n",
        "input_string = \"abc\"\n",
        "result = permutations(input_string)\n",
        "print(\"All permutations:\", result)\n"
      ],
      "metadata": {
        "colab": {
          "base_uri": "https://localhost:8080/"
        },
        "id": "qP52yLWHv02B",
        "outputId": "96787103-91e9-486d-a368-b8c2cfd943ac"
      },
      "execution_count": 63,
      "outputs": [
        {
          "output_type": "stream",
          "name": "stdout",
          "text": [
            "All permutations: ['abc', 'acb', 'bac', 'bca', 'cab', 'cba']\n"
          ]
        }
      ]
    },
    {
      "cell_type": "code",
      "source": [
        "# Create a recursive Python function to check if a string is a palindrome.\n",
        "def is_palindrome(s):\n",
        "    if len(s) <= 1:\n",
        "        return True\n",
        "    elif s[0] != s[-1]:\n",
        "        return False\n",
        "    else:\n",
        "        return is_palindrome(s[1:-1])\n",
        "\n",
        "word = \"radar\"\n",
        "result = is_palindrome(word)\n",
        "print(f\"{word} is a palindrome:\", result)\n"
      ],
      "metadata": {
        "colab": {
          "base_uri": "https://localhost:8080/"
        },
        "id": "HPkAPO1Ev2fT",
        "outputId": "a3b2ecf6-0338-4ea5-c5ef-0dd0e8271af5"
      },
      "execution_count": 64,
      "outputs": [
        {
          "output_type": "stream",
          "name": "stdout",
          "text": [
            "radar is a palindrome: True\n"
          ]
        }
      ]
    },
    {
      "cell_type": "code",
      "source": [
        "# Create a recursive Python function to generate all possible combinations of a list of elements.\n",
        "def combinations(elements):\n",
        "    if not elements:\n",
        "        return [[]]\n",
        "    else:\n",
        "        without_current = combinations(elements[1:])\n",
        "        with_current = [ [elements[0]] + combo for combo in without_current ]\n",
        "        return with_current + without_current\n",
        "\n",
        "elements_list = [1, 2, 3]\n",
        "result = combinations(elements_list)\n",
        "print(\"All combinations:\", result)\n"
      ],
      "metadata": {
        "colab": {
          "base_uri": "https://localhost:8080/"
        },
        "id": "G4QzomLsv4iL",
        "outputId": "6bcd3ac8-14cb-42a0-8291-88655bcae7ab"
      },
      "execution_count": 65,
      "outputs": [
        {
          "output_type": "stream",
          "name": "stdout",
          "text": [
            "All combinations: [[1, 2, 3], [1, 2], [1, 3], [1], [2, 3], [2], [3], []]\n"
          ]
        }
      ]
    },
    {
      "cell_type": "code",
      "source": [
        "## BASICS OF FUNCTION"
      ],
      "metadata": {
        "id": "7nlr28cCv-wg"
      },
      "execution_count": 66,
      "outputs": []
    },
    {
      "cell_type": "code",
      "source": [
        "# What is a function in Python, and why is it used?\n",
        "\n",
        "# In Python, a function is a block of reusable code designed to perform a specific task. Functions provide modularity and abstraction, allowing you to break down a program into smaller, manageable pieces. They enhance code readability, maintainability, and reusability."
      ],
      "metadata": {
        "id": "6uQo9YJEwFOf"
      },
      "execution_count": 67,
      "outputs": []
    },
    {
      "cell_type": "code",
      "source": [
        "# How do you define a function in Python? Provide an example.\n",
        "\n",
        "# To define a function in Python, use the def keyword followed by the function name, parameters in parentheses, and a colon. The function body is indented."
      ],
      "metadata": {
        "id": "-yWi_vzfwOro"
      },
      "execution_count": 68,
      "outputs": []
    },
    {
      "cell_type": "code",
      "source": [
        "# Example of defining a function\n",
        "def greet(name):\n",
        "    print(\"Hello, \" + name + \"!\")\n"
      ],
      "metadata": {
        "id": "xroNMweywRtV"
      },
      "execution_count": 69,
      "outputs": []
    },
    {
      "cell_type": "code",
      "source": [
        "# Difference between a function definition and a function call:\n",
        "\n",
        "# Function Definition: Describes how the function works, specifying its name, parameters, and the code to execute.\n",
        "# Function Call: Invokes the function, passing specific arguments if required, and executes the code defined in the function."
      ],
      "metadata": {
        "id": "8g7kbqb0wTAd"
      },
      "execution_count": 70,
      "outputs": []
    },
    {
      "cell_type": "code",
      "source": [
        "# Function Definition\n",
        "def greet(name):\n",
        "    print(\"Hello, \" + name + \"!\")\n",
        "\n",
        "# Function Call\n",
        "greet(\"Sudhanshu\")\n"
      ],
      "metadata": {
        "colab": {
          "base_uri": "https://localhost:8080/"
        },
        "id": "pxlNoO_WwXim",
        "outputId": "f9a6184b-7466-4a9a-a230-8eef613a464c"
      },
      "execution_count": 73,
      "outputs": [
        {
          "output_type": "stream",
          "name": "stdout",
          "text": [
            "Hello, Sudhanshu!\n"
          ]
        }
      ]
    },
    {
      "cell_type": "code",
      "source": [
        "# Write a Python program that defines a function to calculate the sum of two numbers and then calls the function.\n",
        "def add_numbers(a, b):\n",
        "    sum_result = a + b\n",
        "    print(f\"The sum of {a} and {b} is:\", sum_result)\n",
        "\n",
        "# Call the function\n",
        "add_numbers(5, 7)\n"
      ],
      "metadata": {
        "colab": {
          "base_uri": "https://localhost:8080/"
        },
        "id": "2gKYvOcYwY4G",
        "outputId": "18b33687-ea68-428a-b819-47551e4738b2"
      },
      "execution_count": 72,
      "outputs": [
        {
          "output_type": "stream",
          "name": "stdout",
          "text": [
            "The sum of 5 and 7 is: 12\n"
          ]
        }
      ]
    },
    {
      "cell_type": "code",
      "source": [
        "# What is a function signature, and what information does it typically include?\n",
        "\n",
        "# A function signature is a combination of the function name and its parameter list. It includes the function name, the types and order of parameters, and the return type (if any)."
      ],
      "metadata": {
        "id": "xCg3pmBTwa77"
      },
      "execution_count": 74,
      "outputs": []
    },
    {
      "cell_type": "code",
      "source": [
        "# Create a Python function that takes two arguments and returns their product.\n",
        "def calculate_product(a, b):\n",
        "    return a * b\n",
        "\n",
        "# Example usage\n",
        "result = calculate_product(3, 4)\n",
        "print(\"Product:\", result)\n"
      ],
      "metadata": {
        "colab": {
          "base_uri": "https://localhost:8080/"
        },
        "id": "QvHT471pwq6I",
        "outputId": "c6ee4124-e2ec-4111-db0b-bbced850dcc5"
      },
      "execution_count": 76,
      "outputs": [
        {
          "output_type": "stream",
          "name": "stdout",
          "text": [
            "Product: 12\n"
          ]
        }
      ]
    },
    {
      "cell_type": "code",
      "source": [
        "# Function Parameters and Arguments:\n"
      ],
      "metadata": {
        "id": "Slnu-kW4wuQI"
      },
      "execution_count": 77,
      "outputs": []
    },
    {
      "cell_type": "code",
      "source": [
        "# Concepts of formal parameters and actual arguments in Python functions:\n",
        "\n",
        "# Formal Parameters: These are placeholders or variables listed in the function definition. They represent the input values that a function expects.\n",
        "# Actual Arguments: These are the values passed to a function during a function call. They are assigned to the formal parameters"
      ],
      "metadata": {
        "id": "4HJq0PFNxCsj"
      },
      "execution_count": 78,
      "outputs": []
    },
    {
      "cell_type": "code",
      "source": [
        "# Write a Python program that defines a function with default argument values.\n",
        "def greet(name, greeting=\"Hello\"):\n",
        "    print(greeting + \", \" + name + \"!\")\n",
        "\n",
        "# Function calls\n",
        "greet(\"Alice\")           # Uses default greeting (\"Hello\")\n",
        "greet(\"Bob\", \"Hi there\")  # Uses specified greeting (\"Hi there\")\n"
      ],
      "metadata": {
        "colab": {
          "base_uri": "https://localhost:8080/"
        },
        "id": "PSwA9VSVxNin",
        "outputId": "5aefafa0-d336-4306-ff48-85d96612df30"
      },
      "execution_count": 79,
      "outputs": [
        {
          "output_type": "stream",
          "name": "stdout",
          "text": [
            "Hello, Alice!\n",
            "Hi there, Bob!\n"
          ]
        }
      ]
    },
    {
      "cell_type": "code",
      "source": [
        "# How do you use keyword arguments in Python function calls? Provide an example.\n",
        "def display_info(name, age):\n",
        "    print(\"Name:\", name)\n",
        "    print(\"Age:\", age)\n",
        "\n",
        "# Function call with keyword arguments\n",
        "display_info(name=\"Alice\", age=25)\n"
      ],
      "metadata": {
        "colab": {
          "base_uri": "https://localhost:8080/"
        },
        "id": "GKwoOU4hxPWZ",
        "outputId": "5c8082b9-a639-40cf-e312-bb650b420ed2"
      },
      "execution_count": 80,
      "outputs": [
        {
          "output_type": "stream",
          "name": "stdout",
          "text": [
            "Name: Alice\n",
            "Age: 25\n"
          ]
        }
      ]
    },
    {
      "cell_type": "code",
      "source": [
        "# Create a Python function that accepts a variable number of arguments and calculates their sum.\n",
        "def sum_all(*args):\n",
        "    total = sum(args)\n",
        "    print(\"Sum:\", total)\n",
        "\n",
        "# Function calls with different numbers of arguments\n",
        "sum_all(1, 2, 3)\n",
        "sum_all(5, 10, 15, 20)\n"
      ],
      "metadata": {
        "colab": {
          "base_uri": "https://localhost:8080/"
        },
        "id": "Zn0WbskrxRUI",
        "outputId": "95aaa09c-3725-41c4-e451-cf1ddc7346fa"
      },
      "execution_count": 81,
      "outputs": [
        {
          "output_type": "stream",
          "name": "stdout",
          "text": [
            "Sum: 6\n",
            "Sum: 50\n"
          ]
        }
      ]
    },
    {
      "cell_type": "code",
      "source": [
        "# Purpose of *args and **kwargs syntax in function parameter lists:\n",
        "\n",
        "# *args: Used to pass a variable number of non-keyword arguments to a function. It collects them into a tuple.\n",
        "# **kwargs: Used to pass a variable number of keyword arguments to a function. It collects them into a dictionary."
      ],
      "metadata": {
        "id": "lgLn2kfcxWDP"
      },
      "execution_count": 83,
      "outputs": []
    },
    {
      "cell_type": "code",
      "source": [
        "#Return Values and Scoping:\n"
      ],
      "metadata": {
        "id": "BkJ-bvQfxdHS"
      },
      "execution_count": 84,
      "outputs": []
    },
    {
      "cell_type": "code",
      "source": [
        "# Role of the return statement in Python functions:\n",
        "\n",
        "# The return statement is used to end the execution of a function and return a value to the caller. It can also be used to exit a function prematurely. When a function is called, the return statement sends a value back to the caller, allowing the result of the function to be used in other parts of the program."
      ],
      "metadata": {
        "id": "t4ivPSFixeDp"
      },
      "execution_count": 85,
      "outputs": []
    },
    {
      "cell_type": "code",
      "source": [
        "# Concept of variable scope in Python, including local and global variables:\n",
        "\n",
        "# Local Variables: Defined within a function and only accessible within that function. They have a local scope.\n",
        "# Global Variables: Defined outside any function and accessible throughout the entire program. They have a global scope."
      ],
      "metadata": {
        "id": "vmzJ6PjKxyB0"
      },
      "execution_count": 86,
      "outputs": []
    },
    {
      "cell_type": "code",
      "source": [
        "# Define a global variable\n",
        "global_var = 10\n",
        "\n",
        "# Python function using a global variable\n",
        "def use_global_variable():\n",
        "    print(\"Inside the function - Global Variable:\", global_var)\n",
        "\n",
        "# Call the function\n",
        "use_global_variable()\n",
        "\n",
        "# Accessing the global variable outside the function\n",
        "print(\"Outside the function - Global Variable:\", global_var)\n"
      ],
      "metadata": {
        "colab": {
          "base_uri": "https://localhost:8080/"
        },
        "id": "NVZeh_dLx1cT",
        "outputId": "4606c3bd-2efc-4a2c-9e6e-55a2a3613fff"
      },
      "execution_count": 87,
      "outputs": [
        {
          "output_type": "stream",
          "name": "stdout",
          "text": [
            "Inside the function - Global Variable: 10\n",
            "Outside the function - Global Variable: 10\n"
          ]
        }
      ]
    },
    {
      "cell_type": "code",
      "source": [
        "# Create a Python function that calculates the factorial of a number and returns it.\n",
        "def factorial(n):\n",
        "    if n == 0 or n == 1:\n",
        "        return 1\n",
        "    else:\n",
        "        return n * factorial(n - 1)\n",
        "\n",
        "# Example usage\n",
        "number = 5\n",
        "result = factorial(number)\n",
        "print(f\"The factorial of {number} is:\", result)\n"
      ],
      "metadata": {
        "colab": {
          "base_uri": "https://localhost:8080/"
        },
        "id": "2p4gvePYx3NH",
        "outputId": "a3e4f5fc-a8bf-4dea-e1c0-fda5194d25b8"
      },
      "execution_count": 88,
      "outputs": [
        {
          "output_type": "stream",
          "name": "stdout",
          "text": [
            "The factorial of 5 is: 120\n"
          ]
        }
      ]
    },
    {
      "cell_type": "code",
      "source": [
        "# Accessing variables defined outside a function from within the function:\n",
        "\n",
        "# Global variables can be accessed directly within a function without the need for any special syntax. However, if you want to modify a global variable from within a function, you need to use the global keyword."
      ],
      "metadata": {
        "id": "L22YnfrRx5R7"
      },
      "execution_count": 89,
      "outputs": []
    },
    {
      "cell_type": "code",
      "source": [
        "#Lambda Functions and Higher-Order Functions:\n"
      ],
      "metadata": {
        "id": "NYM0cPvFzAmG"
      },
      "execution_count": 90,
      "outputs": []
    },
    {
      "cell_type": "code",
      "source": [
        "# Lambda functions in Python and their typical use:\n",
        "\n",
        "# Lambda functions, also known as anonymous functions, are small, inline functions defined using the lambda keyword. They are typically used for short, one-time operations where a full function definition is unnecessary. Lambda functions are often employed in functions like map, filter, and sorted."
      ],
      "metadata": {
        "id": "IAVaKOqJzONt"
      },
      "execution_count": 91,
      "outputs": []
    },
    {
      "cell_type": "code",
      "source": [
        "# Write a Python program that uses lambda functions to sort a list of tuples based on the second element.\n",
        "data = [(1, 5), (2, 3), (3, 7), (4, 1)]\n",
        "\n",
        "# Sorting based on the second element of each tuple\n",
        "sorted_data = sorted(data, key=lambda x: x[1])\n",
        "print(\"Sorted data based on the second element:\", sorted_data)\n"
      ],
      "metadata": {
        "colab": {
          "base_uri": "https://localhost:8080/"
        },
        "id": "IUXTHhNwzz4I",
        "outputId": "acdf3d67-dfde-4d31-9717-e2233c82db19"
      },
      "execution_count": 92,
      "outputs": [
        {
          "output_type": "stream",
          "name": "stdout",
          "text": [
            "Sorted data based on the second element: [(4, 1), (2, 3), (1, 5), (3, 7)]\n"
          ]
        }
      ]
    },
    {
      "cell_type": "code",
      "source": [
        "# Concept of higher-order functions in Python and an example:\n",
        "\n",
        "# Higher-order functions are functions that can take other functions as arguments or return functions as results. They enable functional programming concepts like mapping, filtering, and reducing.\n",
        "\n"
      ],
      "metadata": {
        "id": "ZfTsDSQlz12P"
      },
      "execution_count": 93,
      "outputs": []
    },
    {
      "cell_type": "code",
      "source": [
        "# Higher-order function example: map\n",
        "numbers = [1, 2, 3, 4, 5]\n",
        "\n",
        "# Using map to square each element\n",
        "squared_numbers = list(map(lambda x: x**2, numbers))\n",
        "print(\"Squared numbers:\", squared_numbers)\n"
      ],
      "metadata": {
        "colab": {
          "base_uri": "https://localhost:8080/"
        },
        "id": "_xL93YAKz8Vf",
        "outputId": "3d4321d7-2ce0-40fc-ef16-905ba7f90320"
      },
      "execution_count": 94,
      "outputs": [
        {
          "output_type": "stream",
          "name": "stdout",
          "text": [
            "Squared numbers: [1, 4, 9, 16, 25]\n"
          ]
        }
      ]
    },
    {
      "cell_type": "code",
      "source": [
        "# Create a Python function that takes a list of numbers and a function as arguments, applying the function to each element in the list.\n",
        "def apply_function_to_list(numbers, operation):\n",
        "    result = [operation(x) for x in numbers]\n",
        "    return result\n",
        "\n",
        "# Example usage: Square each element in the list\n",
        "numbers = [1, 2, 3, 4, 5]\n",
        "squared_numbers = apply_function_to_list(numbers, lambda x: x**2)\n",
        "print(\"Squared numbers:\", squared_numbers)\n"
      ],
      "metadata": {
        "colab": {
          "base_uri": "https://localhost:8080/"
        },
        "id": "y-790DTsz9Cc",
        "outputId": "2768a820-cda7-427c-eb13-08a57e49b439"
      },
      "execution_count": 95,
      "outputs": [
        {
          "output_type": "stream",
          "name": "stdout",
          "text": [
            "Squared numbers: [1, 4, 9, 16, 25]\n"
          ]
        }
      ]
    },
    {
      "cell_type": "code",
      "source": [
        "#Built-in Functions:\n"
      ],
      "metadata": {
        "id": "Kaqs378e0Eba"
      },
      "execution_count": 96,
      "outputs": []
    },
    {
      "cell_type": "code",
      "source": [
        "# Role of built-in functions like len(), max(), and min() in Python:\n",
        "\n",
        "# len(): Returns the length (number of elements) of an object like a list or string.\n",
        "# max(): Returns the largest element in an iterable or the largest of two or more arguments.\n",
        "# min(): Returns the smallest element in an iterable or the smallest of two or more arguments."
      ],
      "metadata": {
        "id": "aAHUU3Q90MuY"
      },
      "execution_count": 97,
      "outputs": []
    },
    {
      "cell_type": "code",
      "source": [
        "# Write a Python program that uses the `map()` function to apply a function to each element of a list.\n",
        "numbers = [1, 2, 3, 4, 5]\n",
        "\n",
        "# Using map to square each element\n",
        "squared_numbers = list(map(lambda x: x**2, numbers))\n",
        "print(\"Squared numbers:\", squared_numbers)\n"
      ],
      "metadata": {
        "colab": {
          "base_uri": "https://localhost:8080/"
        },
        "id": "4ie2l-ta0U_R",
        "outputId": "e1c6187d-4ed4-4747-b1d1-ddb762b7f3d2"
      },
      "execution_count": 98,
      "outputs": [
        {
          "output_type": "stream",
          "name": "stdout",
          "text": [
            "Squared numbers: [1, 4, 9, 16, 25]\n"
          ]
        }
      ]
    },
    {
      "cell_type": "code",
      "source": [
        "# Working of the filter() function in Python and its use cases:\n",
        "\n",
        "# The filter() function is used to construct an iterator from elements of an iterable for which a function returns true.\n",
        "# It filters elements based on a specified condition.\n",
        "# Use filter() when you want to selectively include or exclude elements from a sequence based on a specific criterion."
      ],
      "metadata": {
        "id": "7es1AhNe0W14"
      },
      "execution_count": 99,
      "outputs": []
    },
    {
      "cell_type": "code",
      "source": [
        "# Create a Python program that uses the `reduce()` function to find the product of all elements in a list.\n",
        "from functools import reduce\n",
        "\n",
        "numbers = [2, 3, 4, 5]\n",
        "\n",
        "# Using reduce to find the product\n",
        "product = reduce(lambda x, y: x * y, numbers)\n",
        "print(\"Product:\", product)\n"
      ],
      "metadata": {
        "colab": {
          "base_uri": "https://localhost:8080/"
        },
        "id": "OR6POsiV0ht_",
        "outputId": "4652d5e3-07d4-485d-9c90-5a8d24c7a341"
      },
      "execution_count": 100,
      "outputs": [
        {
          "output_type": "stream",
          "name": "stdout",
          "text": [
            "Product: 120\n"
          ]
        }
      ]
    },
    {
      "cell_type": "code",
      "source": [
        "#Function Documentation and Best Practices:\n"
      ],
      "metadata": {
        "id": "Alq6QoAk0k8v"
      },
      "execution_count": 101,
      "outputs": []
    },
    {
      "cell_type": "code",
      "source": [
        "# Purpose of docstrings in Python functions and how to write them:\n",
        "\n",
        "# Purpose:\n",
        "\n",
        "# Docstrings (documentation strings) are used to provide documentation or descriptive text about a function, module, or class in Python.\n",
        "# They serve as a form of inline documentation, helping developers understand the purpose, usage, and parameters of the code.\n",
        "# Docstrings are accessible via the help() function or tools like Sphinx for generating documentation.\n",
        "# How to write docstrings:\n",
        "\n",
        "# Place docstrings immediately below the function, module, or class definition, enclosed in triple quotes (''' or \"\"\").\n",
        "# Typically, docstrings follow a specific format, including a brief description, parameters, and return value information."
      ],
      "metadata": {
        "id": "nuDpIERx0oMd"
      },
      "execution_count": 102,
      "outputs": []
    },
    {
      "cell_type": "code",
      "source": [
        "# Best practices for naming functions and variables in Python:\n",
        "\n",
        "# Naming Conventions:\n",
        "\n",
        "# Use lowercase letters for function and variable names.\n",
        "# Separate words in names with underscores (snake_case).\n",
        "# Use descriptive and meaningful names that convey the purpose of the function or variable.\n",
        "# Avoid using single letters or ambiguous names.\n",
        "# Guidelines:\n",
        "\n",
        "# Be consistent in naming style throughout your codebase.\n",
        "# Follow PEP 8 (Python Enhancement Proposal 8) for naming conventions and style.\n",
        "# Use verbs for function names (e.g., calculate_sum) and nouns for variable names (e.g., result).\n",
        "# Avoid using reserved words or built-in names for your functions or variables."
      ],
      "metadata": {
        "id": "VmhxQJwQ0-Bm"
      },
      "execution_count": 104,
      "outputs": []
    },
    {
      "cell_type": "code",
      "source": [
        "# Good naming practices\n",
        "def calculate_sum(numbers_list):\n",
        "    total_sum = sum(numbers_list)\n",
        "    return total_sum\n"
      ],
      "metadata": {
        "id": "R4L2xWrB10Jh"
      },
      "execution_count": 106,
      "outputs": []
    },
    {
      "cell_type": "code",
      "source": [],
      "metadata": {
        "id": "9UQR2NDV15Za"
      },
      "execution_count": null,
      "outputs": []
    }
  ]
}